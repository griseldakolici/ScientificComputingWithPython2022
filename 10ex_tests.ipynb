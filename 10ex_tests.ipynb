{
 "cells": [
  {
   "cell_type": "markdown",
   "metadata": {},
   "source": [
    "1\\. **Hurricanes per Year**\n",
    "\n",
    "The number of hurricanes in 2005 was 15. The historic average is 6.3. Is this number signficantly different?\n",
    "- Assume the number of hurricanes is random, i.e. follows the Poisson distribution.\n",
    "- Assume as statistically significant a probability that has a Z score of 3 or larger with respect a normal distribution.\n",
    "\n",
    "**Hint**: compute the probability that in a single year are observed 15 or more hurricances."
   ]
  },
  {
   "cell_type": "code",
   "execution_count": 1,
   "metadata": {},
   "outputs": [
    {
     "name": "stdout",
     "output_type": "stream",
     "text": [
      "The value of z is: 1.380952380952381\n",
      "The number of hurricanes with Poisson Distribution is: 0.0013726297097147906\n",
      "The pvalue is: 0.1672936026551683\n",
      "Alpha is: 0.05\n",
      "We accept the null hypothesis.\n"
     ]
    }
   ],
   "source": [
    "#1-Hurricane per Year\n",
    "\n",
    "import numpy as np\n",
    "import scipy\n",
    "from scipy import stats\n",
    "import matplotlib.pyplot as plt\n",
    "import pickle\n",
    "import pandas as pd\n",
    "from math import pi\n",
    "m=std=6.3\n",
    "n=15\n",
    "z=np.abs((n-m)/std)\n",
    "print(\"The value of z is:\",z)\n",
    "hurricanes = stats.poisson.pmf(n, m)\n",
    "print(\"The number of hurricanes with Poisson Distribution is:\", hurricanes)\n",
    "pvalue = stats.norm.cdf(-z) + (1. - stats.norm.cdf(z))\n",
    "print(\"The pvalue is:\", pvalue)\n",
    "alpha=0.05\n",
    "print(\"Alpha is:\", alpha)\n",
    "if(pvalue<alpha):\n",
    "    print(\"We reject the null hypothesis.\")\n",
    "else:\n",
    "    print(\"We accept the null hypothesis.\")"
   ]
  },
  {
   "cell_type": "markdown",
   "metadata": {},
   "source": [
    "2\\. **Pairwise t-test**\n",
    "\n",
    "In an experiment, a group of 10 individuals agreed to participate in a study of blood pressure changes following exposure to halogen lighting. Resting systolic blood pressure was recorded for each individual. The participants were then exposed to 20 minutes in a room lit only by halogen lamps. A post-exposure systolic blood pressure reading was recorded for each individual. The results are presented in the following data set:\n",
    "\n",
    "```python\n",
    "pre = np.array([120, 132, 120, 110, 115, 128, 120, 112, 110, 100])\n",
    "post = np.array([140, 156, 145, 130, 117, 148, 137, 119, 127, 135])\n",
    "```\n",
    "\n",
    "Determine whether the change in blood pressures within our sample was statistically significant.\n",
    "\n",
    "**Hint:**\n",
    "in this case, the Student's $t$-test should be performed to compare the two datasets.\n",
    "Use the following test statistics:\n",
    "\n",
    "$$T = \\frac{\\bar{x}_1 - \\bar{x}_2}{\\sigma \\sqrt{\\frac{2}{n}}}$$\n",
    "\n",
    "and \n",
    "\n",
    "$$\\sigma = \\sqrt{\\frac{\\sigma_1^2 + \\sigma_2^2}{2}}$$"
   ]
  },
  {
   "cell_type": "code",
   "execution_count": 2,
   "metadata": {},
   "outputs": [
    {
     "name": "stdout",
     "output_type": "stream",
     "text": [
      "T = -3.786997938137629\n",
      "pvalue= 0.004302464132864604\n",
      "Not statistically significant\n"
     ]
    }
   ],
   "source": [
    "#2- Pairwise t-test\n",
    "\n",
    "pre = np.array([120, 132, 120, 110, 115, 128, 120, 112, 110, 100])\n",
    "post = np.array([140, 156, 145, 130, 117, 148, 137, 119, 127, 135])\n",
    "alpha=0.5\n",
    "var_pre = np.var(pre, ddof=1)\n",
    "var_post = np.var(post, ddof=1)\n",
    "sigma=np.sqrt((var_pre+var_post)/2)\n",
    "mean_pre=np.mean(pre)\n",
    "mean_post=np.mean(post)\n",
    "l=len(pre)\n",
    "t = (mean_pre - mean_post) / (sigma * np.sqrt(2/l))\n",
    "print(\"T =\", t)\n",
    "pvalue = stats.t.cdf(t, l - 1) + (1. - stats.t.cdf(-t, l - 1))\n",
    "print(\"pvalue=\",pvalue)\n",
    "if(pvalue > alpha/2):\n",
    "    print(\"Statistically significant\")\n",
    "else:\n",
    "    print(\"Not statistically significant\")"
   ]
  },
  {
   "cell_type": "markdown",
   "metadata": {},
   "source": [
    "3\\. **Curve fitting of temperature in Alaska** \n",
    "\n",
    "The temperature extremes in Alaska for each month, starting in January, are given by (in degrees Celcius):\n",
    "\n",
    "max:  `17,  19,  21,  28,  33,  38, 37,  37,  31,  23,  19,  18`\n",
    "\n",
    "min: `-62, -59, -56, -46, -32, -18, -9, -13, -25, -46, -52, -58`\n",
    "\n",
    "* Plot these temperatures.\n",
    "* Find a suitable a function that can describe min and max temperatures. \n",
    "* Fit this function to the data with `scipy.optimize.curve_fit()`.\n",
    "* Plot the result. Is the fit reasonable? If not, why?\n",
    "* Is the time offset for min and max temperatures the same within the fit accuracy?"
   ]
  },
  {
   "cell_type": "code",
   "execution_count": 3,
   "metadata": {},
   "outputs": [
    {
     "data": {
      "image/png": "[encoded data removed]",
      "text/plain": [
       "<Figure size 432x288 with 1 Axes>"
      ]
     },
     "metadata": {
      "needs_background": "light"
     },
     "output_type": "display_data"
    },
    {
     "name": "stdout",
     "output_type": "stream",
     "text": [
      "The optimized parameters for max temperatures: [23.09208043  5.73581602 -2.2944341  15.77932979]\n",
      "The optimized parameters for min temperatures: [ 52.64929243   6.16452594   1.97590023 -61.32093748]\n"
     ]
    },
    {
     "data": {
      "text/plain": [
       "<matplotlib.collections.PathCollection at 0x7fea476b3ee0>"
      ]
     },
     "execution_count": 3,
     "metadata": {},
     "output_type": "execute_result"
    },
    {
     "data": {
      "image/png": "[encoded data removed]",
      "text/plain": [
       "<Figure size 432x288 with 1 Axes>"
      ]
     },
     "metadata": {
      "needs_background": "light"
     },
     "output_type": "display_data"
    }
   ],
   "source": [
    "#3-Curve fitting of temperature in Alaska\n",
    "\n",
    "#Plot these temperatures.\n",
    "max_arr=np.array([17,  19,  21,  28,  33,  38, 37,  37,  31,  23,  19,  18]) \n",
    "min_arr=np.array([-62, -59, -56, -46, -32, -18, -9, -13, -25, -46, -52, -58])\n",
    "l=len(max_arr)\n",
    "x=np.arange(0,l)\n",
    "plt.scatter(x,max_arr)\n",
    "plt.scatter(x,min_arr)\n",
    "plt.show()\n",
    "\n",
    "#Find a suitable a function that can describe min and max temperatures\n",
    "def f(x,a, x0, sigma,o):\n",
    "    return a*np.exp(-(x-x0)**2/(2*sigma**2)) + o\n",
    "x2=np.arange(0,l)\n",
    "par_max,_=scipy.optimize.curve_fit(f,x2,max_arr)\n",
    "par_min,_=scipy.optimize.curve_fit(f,x2,min_arr,p0 = [50, 6, 1, -60],full_output=False)\n",
    "print(\"The optimized parameters for max temperatures:\", par_max)\n",
    "print(\"The optimized parameters for min temperatures:\", par_min)\n",
    "x = np.linspace(0,12,100)\n",
    "y_max = f(x,par_max[0],par_max[1],par_max[2],par_max[3])\n",
    "y_min = f(x,par_min[0],par_min[1],par_min[2],par_min[3])\n",
    "plt.plot(x,y_max)\n",
    "plt.plot(x,y_min)\n",
    "plt.scatter(x2,max_arr,c='g')\n",
    "plt.scatter(x2,min_arr,c='m')"
   ]
  },
  {
   "cell_type": "markdown",
   "metadata": {},
   "source": [
    "4\\. **Fit the residues**\n",
    "\n",
    "Read the `data/residuals_261.pkl` file. If you haven't got it already, download it from here:\n",
    "\n",
    "```bash\n",
    "wget https://www.dropbox.com/s/3uqleyc3wyz52tr/residuals_261.pkl -P data/\n",
    "```\n",
    "\n",
    "The feature named `residual` contains the residuals (defined as $y_i - \\hat{y}_i$) of a linear regression as a function of the independent variable `distances`.\n",
    "\n",
    "- Considering only the \"residual\" feature, create an histogram with the appropriate binning and plot it.\n",
    "- Set the appropriate Poisson uncertainty for each bin (thus, for each bin, $\\sigma_i = \\sqrt{n_i}$, where $n_i$ is the number of entries in each bin)\n",
    "- By looking at the distribution of the residuals, define an appropriate function and fit it to the histogram of the residuals\n",
    "- Perform a goodness-of-fit test. Is the p-value of the fit satisfactory?"
   ]
  },
  {
   "cell_type": "code",
   "execution_count": 4,
   "metadata": {},
   "outputs": [
    {
     "ename": "FileNotFoundError",
     "evalue": "[Errno 2] No such file or directory: 'residuals_261.pkl'",
     "output_type": "error",
     "traceback": [
      "\u001b[0;31m---------------------------------------------------------------------------\u001b[0m",
      "\u001b[0;31mFileNotFoundError\u001b[0m                         Traceback (most recent call last)",
      "Input \u001b[0;32mIn [4]\u001b[0m, in \u001b[0;36m<cell line: 3>\u001b[0;34m()\u001b[0m\n\u001b[1;32m      1\u001b[0m \u001b[38;5;66;03m#4-Fit the residues\u001b[39;00m\n\u001b[0;32m----> 3\u001b[0m infile \u001b[38;5;241m=\u001b[39m \u001b[38;5;28;43mopen\u001b[39;49m\u001b[43m(\u001b[49m\u001b[38;5;124;43m\"\u001b[39;49m\u001b[38;5;124;43mresiduals_261.pkl\u001b[39;49m\u001b[38;5;124;43m\"\u001b[39;49m\u001b[43m,\u001b[49m\u001b[43m \u001b[49m\u001b[38;5;124;43m\"\u001b[39;49m\u001b[38;5;124;43mrb\u001b[39;49m\u001b[38;5;124;43m\"\u001b[39;49m\u001b[43m)\u001b[49m\n\u001b[1;32m      4\u001b[0m my_dict \u001b[38;5;241m=\u001b[39m pickle\u001b[38;5;241m.\u001b[39mload(infile)\n\u001b[1;32m      5\u001b[0m infile\u001b[38;5;241m.\u001b[39mclose()\n",
      "\u001b[0;31mFileNotFoundError\u001b[0m: [Errno 2] No such file or directory: 'residuals_261.pkl'"
     ]
    }
   ],
   "source": [
    "#4-Fit the residues\n",
    "\n",
    "infile = open(\"residuals_261.pkl\", \"rb\")\n",
    "my_dict = pickle.load(infile)\n",
    "infile.close()\n",
    "\n",
    "dataset = pd.DataFrame(my_dict.tolist())\n",
    "residuals=dataset[\"residuals\"]\n",
    "distances=dataset[\"distances\"]\n",
    "fig,ax1 = plt.subplots(figsize = (10,10))\n",
    "fig,ax2 = plt.subplots(figsize = (10,10))\n",
    "height,bins,_ = ax1.hist(residuals, bins = 150, range = (-5,5))\n",
    "bin_centr = (bins[:-1] + bins[1:])/2\n",
    "sig= np.sqrt(abs(height))\n",
    "ax1.set_title(\"Graph of the Poisson Uncertainty\")\n",
    "ax1.errorbar(x = bin_centr, y = height, yerr = sig, color = \"y\")\n",
    "\n",
    "#Plot of the fitting function\n",
    "m, std_dev = stats.norm.fit(residuals)\n",
    "par_opt,par_cov = scipy.optimize.curve_fit(f,bin_centr, height, p0 = [max(residuals),m,std,0])\n",
    "ax2.set_title(\"Graph of the fitting function\")\n",
    "ax2.hist(residuals,bins = 150, range = (-5,5))\n",
    "ax2.plot(bin_centr, f(bin_centr, *par_opt), color =\"y\")\n",
    "\n",
    "#Perform a goodness-of-fit test\n",
    "value = tuple(par_opt)\n",
    "fit = f(bin_centr, *par_opt)\n",
    "chi2 = np.sum(((height - fit)**2) / std**2)\n",
    "print(\"chi2=\",chi2)\n",
    "pvalue = 1. - scipy.stats.chi2.cdf(chi2,len(bin_centr) - 1 )\n",
    "print(\"pvalue=\",pvalue)"
   ]
  },
  {
   "cell_type": "markdown",
   "metadata": {},
   "source": [
    "5\\. **Temperatures in Munich**\n",
    "\n",
    "Get the following data file:\n",
    "\n",
    "```bash\n",
    "https://www.dropbox.com/s/7gy9yjl00ymxb8h/munich_temperatures_average_with_bad_data.txt\n",
    "```\n",
    "\n",
    "which gives the temperature in Munich every day for several years.\n",
    "\n",
    "\n",
    "Fit the following function to the data:\n",
    "\n",
    "$$f(t) = a \\cos(2\\pi t + b)+c$$\n",
    "\n",
    "where $t$ is the time in years.\n",
    "\n",
    "- Make a plot of the data and the best-fit model in the range 2008 to 2012.\n",
    "\n",
    "   - What are the best-fit values of the parameters?\n",
    "\n",
    "   - What is the overall average temperature in Munich, and what are the typical daily average values predicted by the model for the coldest and hottest time of year?\n",
    "\n",
    "   - What is the meaning of the $b$ parameter, and what physical sense does it have?\n",
    "\n",
    "\n",
    "- Now fit the data with the function $g(x)$, which has 1 more parameter than $f(x)$.\n",
    "$$g(x) = a \\cos(2\\pi b t + c)+d$$\n",
    "   - What are the RSS for $f(x)$ and $g(x)$?\n",
    "   - Use the Fisher F-test to determine whether the additional parameter is motivated."
   ]
  },
  {
   "cell_type": "code",
   "execution_count": 45,
   "metadata": {},
   "outputs": [
    {
     "data": {
      "image/png": "[encoded data removed]",
      "text/plain": [
       "<Figure size 432x288 with 1 Axes>"
      ]
     },
     "metadata": {
      "needs_background": "light"
     },
     "output_type": "display_data"
    },
    {
     "name": "stdout",
     "output_type": "stream",
     "text": [
      "The best-fit parameters:  [-9.98813369 12.33302301  9.38411487]\n",
      "The average temperature in Munich 9.384097734976043\n",
      "The hottest typical day temperature predicted:  19.372248557225234\n",
      "The coldest typical day temperature predicted:  -0.6040188210437964\n"
     ]
    }
   ],
   "source": [
    "#5- Temperatures in Munich\n",
    "\n",
    "dataset = pd.read_csv(\"munich_temperatures_average_with_bad_data.txt\",sep=' ',names=[\"Day\",\"Temp\"])\n",
    "def f(t,a,b,c):\n",
    "    return a*np.cos(2*pi*t + b) + c \n",
    "\n",
    "\n",
    "def g(t,a,b,c,d):\n",
    "    return a*np.cos(2*pi*b*t + c) + d \n",
    "\n",
    "def Ftest(ssr_1, ssr_2, ndof_1, ndof_2, nbins, verbose=False):\n",
    "    f = ((ssr_1 - ssr_2)/(ndof_2 - ndof_1)) / (ssr_2/(nbins - ndof_2))\n",
    "    cl = 1. - scipy.stats.f.cdf(f, ndof_2 - ndof_1, nbins - ndof_2)\n",
    "    if verbose: print(\"CL: %.3f\" % cl, \", Is additional parameter necessary? ->\", \"YES\" if cl < 0.10 else \"NO\")\n",
    "    return cl\n",
    "dates_x=dataset[(dataset[\"Day\"]>=2008)&(dataset[\"Day\"]<=2012)][\"Day\"]\n",
    "temp_y=dataset[(dataset[\"Day\"]>=2008)&(dataset[\"Day\"]<=2012)][\"Temp\"]\n",
    "params,_ = scipy.optimize.curve_fit(f,dates_x,temp_y)\n",
    "f_fit = f(dates_x,params[0],params[1],params[2])\n",
    "plt.plot(dates_x,f_fit)\n",
    "plt.scatter(dates_x,temp_y,s=1,c=\"m\")\n",
    "plt.show()\n",
    "print(\"The best-fit parameters: \",params)\n",
    "print(\"The average temperature in Munich\",np.average(temp_y))\n",
    "print(\"The hottest typical day temperature predicted: \",np.abs(params[0])+params[2])\n",
    "print(\"The coldest typical day temperature predicted: \",params[0]+params[2])"
   ]
  },
  {
   "cell_type": "code",
   "execution_count": 46,
   "metadata": {},
   "outputs": [
    {
     "data": {
      "image/png": "[encoded data removed]",
      "text/plain": [
       "<Figure size 432x288 with 1 Axes>"
      ]
     },
     "metadata": {
      "needs_background": "light"
     },
     "output_type": "display_data"
    },
    {
     "name": "stdout",
     "output_type": "stream",
     "text": [
      "The best-fit parameters:  [-9.98218388  1.00144406 -5.90472718  9.39812492]\n",
      "RSS 1:  34359.85859996652\n",
      "RSS 2:  34352.794053704085\n"
     ]
    }
   ],
   "source": [
    "params,_ = scipy.optimize.curve_fit(g,dates_x,temp_y) ## same procedure as before\n",
    "\n",
    "g_fit = g(dates_x,params[0],params[1],params[2],params[3])\n",
    "plt.plot(dates_x,g_fit)\n",
    "plt.scatter(dates_x,temp_y,s=1,c=\"m\")\n",
    "plt.show()\n",
    "\n",
    "print(\"The best-fit parameters: \",params)\n",
    "\n",
    "\n",
    "\n",
    "RSS_f=np.sum(np.square(temp_y - f_fit))\n",
    "print(\"RSS 1: \",RSS_f)\n",
    "RSS_g=np.sum(np.square(temp_y - g_fit))\n",
    "print(\"RSS 2: \",RSS_g)\n"
   ]
  },
  {
   "cell_type": "code",
   "execution_count": 48,
   "metadata": {},
   "outputs": [
    {
     "name": "stdout",
     "output_type": "stream",
     "text": [
      "CL: 0.584 , Is additional parameter necessary? -> NO\n"
     ]
    },
    {
     "data": {
      "text/plain": [
       "0.5840708127716518"
      ]
     },
     "execution_count": 48,
     "metadata": {},
     "output_type": "execute_result"
    }
   ],
   "source": [
    "n1 = 2\n",
    "n2 = 3\n",
    "Ftest(RSS_f,RSS_g,n1,n2,len(temp_y),verbose=True)"
   ]
  }
 ],
 "metadata": {
  "kernelspec": {
   "display_name": "Python 3 (ipykernel)",
   "language": "python",
   "name": "python3"
  },
  "language_info": {
   "codemirror_mode": {
    "name": "ipython",
    "version": 3
   },
   "file_extension": ".py",
   "mimetype": "text/x-python",
   "name": "python",
   "nbconvert_exporter": "python",
   "pygments_lexer": "ipython3",
   "version": "3.9.12"
  }
 },
 "nbformat": 4,
 "nbformat_minor": 2
}
